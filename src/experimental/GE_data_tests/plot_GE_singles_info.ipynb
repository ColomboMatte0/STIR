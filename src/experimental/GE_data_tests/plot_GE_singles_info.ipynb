{
 "cells": [
  {
   "cell_type": "code",
   "execution_count": null,
   "metadata": {},
   "outputs": [],
   "source": [
    "import os\n",
    "import sys\n",
    "import numpy as np\n",
    "import matplotlib.pyplot as plt"
   ]
  },
  {
   "cell_type": "code",
   "execution_count": null,
   "metadata": {},
   "outputs": [],
   "source": [
    "def get_lambda(half_life):\n",
    "    return np.log(2) / half_life"
   ]
  },
  {
   "cell_type": "code",
   "execution_count": null,
   "metadata": {},
   "outputs": [],
   "source": [
    "def get_half_life(lbda):\n",
    "    return np.log(2) / lbda"
   ]
  },
  {
   "cell_type": "code",
   "execution_count": null,
   "metadata": {},
   "outputs": [],
   "source": [
    "def linear_function(m, x, c):\n",
    "    return m * x + c"
   ]
  },
  {
   "cell_type": "code",
   "execution_count": null,
   "metadata": {},
   "outputs": [],
   "source": [
    "def decay_function(lbda, x, S0):\n",
    "    return S0 * np.exp(-lbda * x)"
   ]
  },
  {
   "cell_type": "code",
   "execution_count": null,
   "metadata": {},
   "outputs": [],
   "source": [
    "def get_lines_from_file(filename):\n",
    "    print(f\"Loading lines from file: \\n  {filename}\")\n",
    "    with open(filename) as f:\n",
    "        lines = f.readlines()\n",
    "    return lines"
   ]
  },
  {
   "cell_type": "code",
   "execution_count": null,
   "metadata": {},
   "outputs": [],
   "source": [
    "def extract_singles_values_array_from_lines(lines):\n",
    "    \"\"\"\n",
    "    This is a poorly written function that loops over each of the lines of the log file.\n",
    "    The function filters the lines, looking for array depth information, given by \"{\" and \"}\".\n",
    "    There are a few lines begining with \"(\" or \"Time frame\" or are empty that are ignored.\n",
    "    \"\"\"\n",
    "    print(\"\\nExtracting singles values array from lines...\")\n",
    "    line_num = 0\n",
    "    num_lines = len(lines)\n",
    "    singles_values = [[]]\n",
    "    i = 0\n",
    "    for l in lines:\n",
    "        line_num += 1\n",
    "        if line_num % 100 == 0:\n",
    "            print(f\"  Processing {line_num}/{num_lines} ({round(line_num / num_lines * 1000) / 10}%) lines...\",\n",
    "                  end=\"\\r\") # funky way to give percentages with decimal, e.g. 12.3%\n",
    "\n",
    "        # Remove unneeded lines\n",
    "        if len(l) <= 1 or l.startswith(\"(\") or l.startswith(\"Time frame\"):\n",
    "            continue\n",
    "            \n",
    "        if l.count(\"{\") == 2:\n",
    "            # Increasing list depth\n",
    "            i += 1\n",
    "            singles_values.append([])\n",
    "            \n",
    "        if l.startswith(\", \"):\n",
    "            # first 2 characters of the line are \", \", which we remove here.\n",
    "            l = l[2::] \n",
    "            \n",
    "        # remove any \"{\", \"}\", \"\\n\" and split the remaining string into a list by \",\" as the delimiter.\n",
    "        # Do not edit the original l\n",
    "        tmp = l.replace(\"{\", \"\").replace(\"}\", \"\").replace(\"\\n\", \"\").split(\",\")\n",
    "        \n",
    "        \n",
    "        if len(tmp) > 1:\n",
    "            # Expect a list of some length, otherwise it may be an empty, which is discarded here.\n",
    "            tmp = [float(i) for i in tmp] # Convert strings into float values.\n",
    "            singles_values[i].append(tmp) \n",
    "            \n",
    "    print(f\"  Processed {line_num}/{num_lines} lines.\")\n",
    "    print(\"Converting to array...\\n\")\n",
    "    return np.array(singles_values) # Ideally this whole function uses arrays rather than lists, this conversion is expensive."
   ]
  },
  {
   "cell_type": "markdown",
   "metadata": {},
   "source": [
    "# Main script"
   ]
  },
  {
   "cell_type": "code",
   "execution_count": null,
   "metadata": {},
   "outputs": [],
   "source": [
    "# This next line is the main argument for the script. This should be a GE list mode file. \n",
    "# For development, I have hard coded this line."
   ]
  },
  {
   "cell_type": "code",
   "execution_count": null,
   "metadata": {},
   "outputs": [],
   "source": [
    "lm_file = \"/Users/roberttwyman/bin/Experiments/Phantoms/GE_data/OriginalFiles/torso-phantom-DMI3ring-RDF9/list/LIST0000.blfun\""
   ]
  },
  {
   "cell_type": "markdown",
   "metadata": {},
   "source": [
    "Output the print_GE_singles_values into a log file. No need to rerun once it has been run once."
   ]
  },
  {
   "cell_type": "code",
   "execution_count": null,
   "metadata": {},
   "outputs": [],
   "source": [
    "log_file = \"print_GE_singles_values.log\"\n",
    "if not os.path.isfile(log_file):\n",
    "    print(f\"Running print_GE_singles_values command! Saving into {log_file}\")\n",
    "    os.system(f\"print_GE_singles_values {lm_file} > {log_file}\")\n",
    "else:\n",
    "    print(f\"{log_file} already exists.\")"
   ]
  },
  {
   "cell_type": "markdown",
   "metadata": {},
   "source": [
    "Load the log file in text and imediately load into a function to extract the lines into an array"
   ]
  },
  {
   "cell_type": "code",
   "execution_count": null,
   "metadata": {},
   "outputs": [],
   "source": [
    "singles_values = extract_singles_values_array_from_lines(get_lines_from_file(log_file))"
   ]
  },
  {
   "cell_type": "code",
   "execution_count": null,
   "metadata": {},
   "outputs": [],
   "source": [
    "seconds = np.array([0] * len(singles_values)) # Assume each array corresponds 10 one second"
   ]
  },
  {
   "cell_type": "code",
   "execution_count": null,
   "metadata": {},
   "outputs": [],
   "source": [
    "singles_per_second = np.array([0] * len(singles_values))\n",
    "for i in range(len(singles_values)):\n",
    "    seconds[i] = i\n",
    "    singles_per_second[i] = np.sum(singles_values[i])"
   ]
  },
  {
   "cell_type": "markdown",
   "metadata": {},
   "source": [
    "%%<br>\n",
    "log( S0 exp(-2lambda t) = log(S0) -2lambda t )"
   ]
  },
  {
   "cell_type": "code",
   "execution_count": null,
   "metadata": {},
   "outputs": [],
   "source": [
    "lbda, S0 = np.polyfit(seconds, np.log(singles_per_second), 1)\n",
    "lbda = -lbda\n",
    "S0 = np.exp(S0)\n",
    "measured_half_life = get_half_life(lbda)"
   ]
  },
  {
   "cell_type": "code",
   "execution_count": null,
   "metadata": {},
   "outputs": [],
   "source": [
    "F18_half_life = 6586.2\n",
    "F18_lbda = get_lambda(F18_half_life)"
   ]
  },
  {
   "cell_type": "markdown",
   "metadata": {},
   "source": [
    "lin_fit = [linear_function(lbda, si, np.log(S0)) for si in seconds]"
   ]
  },
  {
   "cell_type": "code",
   "execution_count": null,
   "metadata": {},
   "outputs": [],
   "source": [
    "exponential_fit = [decay_function(lbda, t, S0) for t in seconds]\n",
    "F18_singles = [decay_function(F18_lbda, t, S0) for t in seconds]"
   ]
  },
  {
   "cell_type": "code",
   "execution_count": null,
   "metadata": {},
   "outputs": [],
   "source": [
    "plt.figure()\n",
    "plt.plot(singles_per_second)\n",
    "plt.plot(exponential_fit)\n",
    "plt.plot(F18_singles)\n",
    "plt.title(f\"fit half-life = {round(measured_half_life*10)/10} seconds\")\n",
    "plt.legend([\"singles_per_second\", \"exponential fit to measured data\", \"F18 decay (using correct t1/2)\"])\n",
    "plt.ylabel(\"Single Events per Second\")\n",
    "plt.xlabel(\"Seconds (s)\")\n",
    "plt.show()"
   ]
  },
  {
   "cell_type": "markdown",
   "metadata": {},
   "source": [
    "<br>\n",
    "plt.figure()<br>\n",
    "plt.plot(np.log(singles_per_second))<br>\n",
    "plt.plot(lin_fit)<br>\n",
    "plt.legend([\"log[singles_per_second]\", \"linear_fit\"])<br>\n",
    "plt.title(f\"lambda = {1 / lbda}, log[S0] = {S0}\")<br>\n",
    "plt.ylabel(\"log[Single Events per Second]\")<br>\n",
    "plt.xlabel(\"Seconds (s)\")<br>\n",
    "plt.show()"
   ]
  },
  {
   "cell_type": "code",
   "execution_count": null,
   "metadata": {},
   "outputs": [],
   "source": [
    "print(f\"sum(singles_per_second) / sum(exponential_fit) = {np.sum(singles_per_second) / np.sum(exponential_fit)}\\n\",\n",
    "      f\"sum(F18_singles) / sum(exponential_fit) = {np.sum(F18_singles) / np.sum(exponential_fit)}\\n\",\n",
    "      f\"measured half_life = {measured_half_life}\\n\"\n",
    "      f\"F18_half_life = {F18_half_life}\")"
   ]
  },
  {
   "cell_type": "markdown",
   "metadata": {},
   "source": [
    "%"
   ]
  },
  {
   "cell_type": "code",
   "execution_count": null,
   "metadata": {},
   "outputs": [],
   "source": [
    "plt.figure()\n",
    "plt.imshow(np.sum(singles_values, axis=0))\n",
    "plt.show()"
   ]
  },
  {
   "cell_type": "markdown",
   "metadata": {},
   "source": [
    "%"
   ]
  },
  {
   "cell_type": "code",
   "execution_count": null,
   "metadata": {},
   "outputs": [],
   "source": [
    "plt.figure()\n",
    "plt.plot(np.sum(singles_values, axis=(0,1)))\n",
    "plt.plot(np.flip(np.sum(singles_values, axis=(0,1))))\n",
    "plt.title(\"detectors\")\n",
    "plt.show()"
   ]
  },
  {
   "cell_type": "code",
   "execution_count": null,
   "metadata": {},
   "outputs": [],
   "source": [
    "plt.figure()\n",
    "plt.plot(np.sum(singles_values, axis=(0,2)))\n",
    "plt.plot(np.flip(np.sum(singles_values, axis=(0,2))))\n",
    "plt.title(\"rings\")\n",
    "plt.show()"
   ]
  }
 ],
 "metadata": {
  "kernelspec": {
   "display_name": "Python 3 (ipykernel)",
   "language": "python",
   "name": "python3"
  },
  "language_info": {
   "codemirror_mode": {
    "name": "ipython",
    "version": 3
   },
   "file_extension": ".py",
   "mimetype": "text/x-python",
   "name": "python",
   "nbconvert_exporter": "python",
   "pygments_lexer": "ipython3",
   "version": "3.9.6"
  }
 },
 "nbformat": 4,
 "nbformat_minor": 2
}
